{
 "cells": [
  {
   "cell_type": "markdown",
   "metadata": {},
   "source": [
    "# Cropp and face recognition"
   ]
  },
  {
   "cell_type": "code",
   "execution_count": 66,
   "metadata": {
    "ExecuteTime": {
     "end_time": "2019-08-25T16:00:36.118153Z",
     "start_time": "2019-08-25T16:00:36.064745Z"
    },
    "scrolled": true
   },
   "outputs": [],
   "source": [
    "import numpy as np\n",
    "import cv2\n",
    "import os\n",
    "import glob\n",
    "import PIL\n",
    "import PIL.Image as pil_image\n",
    "import matplotlib.pyplot as plt\n",
    "\n",
    "\n",
    "def rotate_image(image, angle):\n",
    "    h, w = image.shape[:2]\n",
    "    M = cv2.getRotationMatrix2D((w/2,h/2), angle , 1)\n",
    "    dst = cv2.warpAffine(image, M, (w, h))\n",
    "    return dst\n",
    "\n",
    "\n",
    "def is_really_face_detection(face_img):\n",
    "    if sum(face_img[0,:48] + face_img[:48,0]) == 0:\n",
    "        return 0\n",
    "    else: \n",
    "        return 1\n",
    "\n",
    "\n",
    "def get_cropped_face(image):\n",
    "    # Load the cascade\n",
    "    face_cascade = cv2.CascadeClassifier('haarcascade_frontalface_alt2.xml')\n",
    "    # rotate the input image\n",
    "    image = rotate_image(image, -90)\n",
    "    # Convert into grayscale\n",
    "    image = cv2.cvtColor(image, cv2.COLOR_BGR2GRAY)\n",
    "    # Detect faces\n",
    "    faces = face_cascade.detectMultiScale(image)\n",
    "    aire_face = []\n",
    "    try:\n",
    "        for (x, y, w, h) in faces:\n",
    "            aire_face.append((w)*(h))\n",
    "        face_index = np.argmax(np.array(aire_face))\n",
    "        x,y,w,h = faces[face_index]\n",
    "        cv2.rectangle(image, (x, y), (x+w, y+h), (0, 255, 0), thickness=4)\n",
    "        only_face = image[y:y+h, x:x+w]\n",
    "        face_image = cv2.resize(only_face, (48, 48), interpolation=cv2.INTER_CUBIC)\n",
    "        face_image = face_image.astype('float32')\n",
    "        face_image = cv2.normalize(face_image, None)\n",
    "        r = is_really_face_detection(face_image)\n",
    "        return face_image, 1, r\n",
    "    except ValueError:\n",
    "        img_resized = cv2.resize(image, (48, 48), interpolation=cv2.INTER_CUBIC)\n",
    "        img_resized = img_resized.astype('float32')\n",
    "        img_resized = cv2.normalize(img_resized, None)\n",
    "        r = is_really_face_detection(img_resized)\n",
    "        return img_resized, 0, r"
   ]
  },
  {
   "cell_type": "markdown",
   "metadata": {},
   "source": [
    "# Store in a dataframe 'dataset'"
   ]
  },
  {
   "cell_type": "code",
   "execution_count": 67,
   "metadata": {
    "ExecuteTime": {
     "end_time": "2019-08-25T16:10:29.286757Z",
     "start_time": "2019-08-25T16:00:40.419240Z"
    },
    "scrolled": false
   },
   "outputs": [],
   "source": [
    "import pandas as pd\n",
    "path = '/home/elbaz/Bureau/ITC_DOC/Courses/Project/Fake_Emotions/pic/'\n",
    "emotions = ['angry', 'disgust', 'surprise', 'happy', 'saddness']\n",
    "dataset = pd.DataFrame(columns=['flatten_image', 'emotions', 'face_detected', 'is_really_detected'])\n",
    "i = 0\n",
    "for e in emotions:\n",
    "    img_dir = path + e\n",
    "    data = np.array([np.array(pil_image.open(f)) for f in glob.glob(img_dir+\"/*.JPG\")])\n",
    "    for img in data:\n",
    "        face_img, face_detected, really = get_cropped_face(img)\n",
    "        dataset.loc[i, 'flatten_image'] = face_img.flatten()\n",
    "        dataset.loc[i, 'face_detected'] = face_detected\n",
    "        dataset.loc[i, 'emotions'] = e\n",
    "        dataset.loc[i, 'is_really_detected'] = really\n",
    "        i += 1"
   ]
  },
  {
   "cell_type": "markdown",
   "metadata": {},
   "source": [
    "## Arange dataframe"
   ]
  },
  {
   "cell_type": "code",
   "execution_count": 73,
   "metadata": {
    "ExecuteTime": {
     "end_time": "2019-08-25T16:12:13.959921Z",
     "start_time": "2019-08-25T16:12:13.778319Z"
    },
    "scrolled": true
   },
   "outputs": [],
   "source": [
    "dataset = dataset[dataset.face_detected==1]\n",
    "dataset = dataset[dataset.is_really_detected==1]\n",
    "dataset.drop(['face_detected', 'is_really_detected'], axis=1, inplace=True)\n",
    "dataset.emotions.replace({'angry': 0, 'disgust': 1, 'surprise': 2, 'happy': 3, 'saddness': 4}, inplace=True)\n",
    "dataset = dataset.sample(frac=1)"
   ]
  },
  {
   "cell_type": "markdown",
   "metadata": {},
   "source": [
    "Convert arrat into string."
   ]
  },
  {
   "cell_type": "code",
   "execution_count": 75,
   "metadata": {
    "ExecuteTime": {
     "end_time": "2019-08-25T16:12:50.182194Z",
     "start_time": "2019-08-25T16:12:49.750063Z"
    }
   },
   "outputs": [],
   "source": [
    "def array2string(arr):\n",
    "    l_arr = arr.tolist()\n",
    "    str_arr = (' ').join(map(str, l_arr))\n",
    "    return str_arr\n",
    "\n",
    "dataset.flatten_image = dataset.apply(lambda row: array2string(row.flatten_image), axis=1)"
   ]
  },
  {
   "cell_type": "markdown",
   "metadata": {},
   "source": [
    "# Save in csv file"
   ]
  },
  {
   "cell_type": "code",
   "execution_count": 76,
   "metadata": {
    "ExecuteTime": {
     "end_time": "2019-08-25T16:12:54.735868Z",
     "start_time": "2019-08-25T16:12:54.528526Z"
    }
   },
   "outputs": [],
   "source": [
    "dataset.to_csv('image_data.csv')"
   ]
  },
  {
   "cell_type": "markdown",
   "metadata": {},
   "source": [
    "# Test the dataset"
   ]
  },
  {
   "cell_type": "code",
   "execution_count": 77,
   "metadata": {
    "ExecuteTime": {
     "end_time": "2019-08-25T16:12:59.749259Z",
     "start_time": "2019-08-25T16:12:59.727433Z"
    }
   },
   "outputs": [],
   "source": [
    "dict_label = {'angry': 0, 'disgust': 1, 'surprise': 2, 'happy': 3, 'sad': 4}\n",
    "\n",
    "def build_images(img_emotion, sep):\n",
    "    width, height = 48, 48\n",
    "    xx = [float(xp) for xp in img_emotion.split(sep)]\n",
    "    xx = np.asarray(xx).reshape(width, height)\n",
    "    return xx\n",
    "\n",
    "def plot_emotion_images(dataset, dict_label, emotion):\n",
    "    label_emotion = dict_label[emotion]\n",
    "    emotion_data = dataset[dataset.emotions == label_emotion]\n",
    "    img_emotion = emotion_data.sample(n=1).flatten_image.values[0]\n",
    "    img_emotion = build_images(img_emotion, sep=' ')\n",
    "    plt.imshow(img_emotion, cmap='gray')\n",
    "    plt.title(emotion)"
   ]
  },
  {
   "cell_type": "code",
   "execution_count": 82,
   "metadata": {
    "ExecuteTime": {
     "end_time": "2019-08-25T16:13:13.333457Z",
     "start_time": "2019-08-25T16:13:13.152805Z"
    }
   },
   "outputs": [
    {
     "data": {
      "image/png": "[encoded data removed]",
      "text/plain": [
       "<Figure size 432x288 with 1 Axes>"
      ]
     },
     "metadata": {
      "needs_background": "light"
     },
     "output_type": "display_data"
    }
   ],
   "source": [
    "plot_emotion_images(dataset, dict_label, 'happy')"
   ]
  }
 ],
 "metadata": {
  "kernelspec": {
   "display_name": "Python 3",
   "language": "python",
   "name": "python3"
  },
  "language_info": {
   "codemirror_mode": {
    "name": "ipython",
    "version": 3
   },
   "file_extension": ".py",
   "mimetype": "text/x-python",
   "name": "python",
   "nbconvert_exporter": "python",
   "pygments_lexer": "ipython3",
   "version": "3.6.8"
  },
  "latex_envs": {
   "LaTeX_envs_menu_present": true,
   "autoclose": false,
   "autocomplete": true,
   "bibliofile": "biblio.bib",
   "cite_by": "apalike",
   "current_citInitial": 1,
   "eqLabelWithNumbers": true,
   "eqNumInitial": 1,
   "hotkeys": {
    "equation": "Ctrl-E",
    "itemize": "Ctrl-I"
   },
   "labels_anchors": false,
   "latex_user_defs": false,
   "report_style_numbering": false,
   "user_envs_cfg": false
  },
  "toc": {
   "base_numbering": 1,
   "nav_menu": {},
   "number_sections": true,
   "sideBar": true,
   "skip_h1_title": false,
   "title_cell": "Table of Contents",
   "title_sidebar": "Contents",
   "toc_cell": false,
   "toc_position": {},
   "toc_section_display": true,
   "toc_window_display": false
  },
  "varInspector": {
   "cols": {
    "lenName": 16,
    "lenType": 16,
    "lenVar": 40
   },
   "kernels_config": {
    "python": {
     "delete_cmd_postfix": "",
     "delete_cmd_prefix": "del ",
     "library": "var_list.py",
     "varRefreshCmd": "print(var_dic_list())"
    },
    "r": {
     "delete_cmd_postfix": ") ",
     "delete_cmd_prefix": "rm(",
     "library": "var_list.r",
     "varRefreshCmd": "cat(var_dic_list()) "
    }
   },
   "types_to_exclude": [
    "module",
    "function",
    "builtin_function_or_method",
    "instance",
    "_Feature"
   ],
   "window_display": false
  }
 },
 "nbformat": 4,
 "nbformat_minor": 2
}
