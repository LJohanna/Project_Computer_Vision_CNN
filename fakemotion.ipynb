{
 "cells": [
  {
   "cell_type": "code",
   "execution_count": 34,
   "metadata": {},
   "outputs": [],
   "source": [
    "import matplotlib.pyplot as plt\n",
    "\n",
    "import numpy as np\n",
    "import glob\n",
    "\n",
    "import pandas as pd\n",
    "\n",
    "from keras.models import Sequential, Model\n",
    "from keras import optimizers\n",
    "from keras.layers import Dense, Activation, Conv2D, MaxPool2D, Flatten, BatchNormalization, Dropout\n",
    "from keras.preprocessing.image import ImageDataGenerator\n",
    "from keras import applications"
   ]
  },
  {
   "cell_type": "code",
   "execution_count": 35,
   "metadata": {},
   "outputs": [],
   "source": [
    "img_height = img_width = 150\n",
    "channels = 3\n",
    "if (channels == 1):\n",
    "    color_mode_ = \"grayscale\"\n",
    "else:\n",
    "    color_mode_ = \"rgb\""
   ]
  },
  {
   "cell_type": "code",
   "execution_count": 36,
   "metadata": {},
   "outputs": [],
   "source": [
    "data1 = pd.read_csv('/data/data_fakemotion_train_text/data_new.csv')\n",
    "data2 = pd.read_csv('/data/new_data1/new_data1.csv').drop('Unnamed: 0', axis=1)\n",
    "data3 = pd.read_csv('/data/new_data2/new_data2.csv').drop('Unnamed: 0', axis=1)\n",
    "data4 = pd.read_csv('/data/new_data3/new_data3.csv').drop('Unnamed: 0', axis=1)\n",
    "data5 = pd.read_csv('/data/new_data4/new_data4.csv').drop('Unnamed: 0', axis=1)\n",
    "data6 = pd.read_csv('/data/new_data5/new_data5.csv').drop('Unnamed: 0', axis=1)\n",
    "data = pd.concat([data1,data2,data3,data4,data5,data6], ignore_index=True)"
   ]
  },
  {
   "cell_type": "code",
   "execution_count": 37,
   "metadata": {},
   "outputs": [
    {
     "data": {
      "text/plain": [
       "array([0, 2, 4, 6, 3, 5, 1])"
      ]
     },
     "execution_count": 37,
     "metadata": {},
     "output_type": "execute_result"
    }
   ],
   "source": [
    "data.emotion.unique()"
   ]
  },
  {
   "cell_type": "code",
   "execution_count": 38,
   "metadata": {},
   "outputs": [],
   "source": [
    "data = data.drop(data[data.emotion == 6].index.values)\n",
    "data = data.drop(data[data.emotion == 2].index.values)"
   ]
  },
  {
   "cell_type": "code",
   "execution_count": 39,
   "metadata": {},
   "outputs": [],
   "source": [
    "data = data.replace({'emotion': {5: 2}})"
   ]
  },
  {
   "cell_type": "code",
   "execution_count": 40,
   "metadata": {},
   "outputs": [
    {
     "data": {
      "text/plain": [
       "24568"
      ]
     },
     "execution_count": 40,
     "metadata": {},
     "output_type": "execute_result"
    }
   ],
   "source": [
    "len(data)"
   ]
  },
  {
   "cell_type": "code",
   "execution_count": 41,
   "metadata": {},
   "outputs": [
    {
     "data": {
      "text/plain": [
       "(24568, 3)"
      ]
     },
     "execution_count": 41,
     "metadata": {},
     "output_type": "execute_result"
    }
   ],
   "source": [
    "data.shape"
   ]
  },
  {
   "cell_type": "code",
   "execution_count": 42,
   "metadata": {},
   "outputs": [],
   "source": [
    "img_width, img_height = 48, 48\n",
    "\n",
    "datapoints = data['pixels'].tolist()\n",
    "\n",
    "#getting features for training\n",
    "X = []\n",
    "for xseq in datapoints:\n",
    "    xx = [int(xp) for xp in xseq.split(' ')]\n",
    "    xx = np.asarray(xx).reshape(img_width, img_height)\n",
    "    X.append(xx.astype('float32'))\n",
    "\n",
    "X = np.asarray(X)\n",
    "X = np.expand_dims(X, -1)\n",
    "\n",
    "#getting labels for training\n",
    "# y = pd.get_dummies(data['emotion']).as_matrix()\n",
    "y = data.emotion\n",
    "\n",
    "#reducing\n",
    "# X = X[:5000]\n",
    "# y = y[:5000]"
   ]
  },
  {
   "cell_type": "code",
   "execution_count": 43,
   "metadata": {},
   "outputs": [],
   "source": [
    "from sklearn.model_selection import train_test_split\n",
    "X_train, X_test, y_train, y_test = train_test_split(X, y, test_size=0.2, random_state=0)"
   ]
  },
  {
   "cell_type": "code",
   "execution_count": 44,
   "metadata": {},
   "outputs": [],
   "source": [
    "# X_train, y_train = X[:22000], y[:22000]\n",
    "# X_test, y_test = X[22000:], y[22000:]"
   ]
  },
  {
   "cell_type": "code",
   "execution_count": 45,
   "metadata": {},
   "outputs": [],
   "source": [
    "import cv2\n",
    "Xtrain = []\n",
    "for i in range(len(X_train)):\n",
    "    Xtrain.append(cv2.cvtColor(X_train[i],cv2.COLOR_GRAY2RGB))\n",
    "X_train = np.array(Xtrain)\n",
    "\n",
    "Xtest = []\n",
    "for i in range(len(X_test)):\n",
    "    Xtest.append(cv2.cvtColor(X_test[i],cv2.COLOR_GRAY2RGB))\n",
    "X_test = np.array(Xtest)"
   ]
  },
  {
   "cell_type": "code",
   "execution_count": 46,
   "metadata": {},
   "outputs": [],
   "source": [
    "from keras.utils import np_utils\n",
    "y_train = np_utils.to_categorical(y_train, 5)\n",
    "y_test = np_utils.to_categorical(y_test, 5)"
   ]
  },
  {
   "cell_type": "code",
   "execution_count": 47,
   "metadata": {},
   "outputs": [
    {
     "data": {
      "text/plain": [
       "(19654, 48, 48, 3)"
      ]
     },
     "execution_count": 47,
     "metadata": {},
     "output_type": "execute_result"
    }
   ],
   "source": [
    "X_train.shape"
   ]
  },
  {
   "cell_type": "code",
   "execution_count": 48,
   "metadata": {},
   "outputs": [
    {
     "data": {
      "text/plain": [
       "(48, 48, 3)"
      ]
     },
     "execution_count": 48,
     "metadata": {},
     "output_type": "execute_result"
    }
   ],
   "source": [
    "X_train[0].shape"
   ]
  },
  {
   "cell_type": "code",
   "execution_count": 49,
   "metadata": {},
   "outputs": [
    {
     "data": {
      "text/plain": [
       "<matplotlib.image.AxesImage at 0x7f7e11f30a58>"
      ]
     },
     "execution_count": 49,
     "metadata": {},
     "output_type": "execute_result"
    },
    {
     "data": {
      "image/png": "[encoded data removed]",
      "text/plain": [
       "<Figure size 432x288 with 1 Axes>"
      ]
     },
     "metadata": {
      "needs_background": "light"
     },
     "output_type": "display_data"
    }
   ],
   "source": [
    "plt.imshow(X_train[0]/255)"
   ]
  },
  {
   "cell_type": "code",
   "execution_count": 50,
   "metadata": {},
   "outputs": [
    {
     "data": {
      "text/plain": [
       "(19654, 5)"
      ]
     },
     "execution_count": 50,
     "metadata": {},
     "output_type": "execute_result"
    }
   ],
   "source": [
    "y_train.shape"
   ]
  },
  {
   "cell_type": "code",
   "execution_count": 51,
   "metadata": {},
   "outputs": [
    {
     "name": "stdout",
     "output_type": "stream",
     "text": [
      "Collecting git+https://github.com/rcmalli/keras-vggface.git\n",
      "  Cloning https://github.com/rcmalli/keras-vggface.git to /tmp/pip-req-build-wu493dk5\n",
      "  Running command git clone -q https://github.com/rcmalli/keras-vggface.git /tmp/pip-req-build-wu493dk5\n",
      "Requirement already satisfied (use --upgrade to upgrade): keras-vggface==0.6 from git+https://github.com/rcmalli/keras-vggface.git in /opt/ds3/lib/python3.6/site-packages\n",
      "Requirement already satisfied: numpy>=1.9.1 in /opt/ds3/lib/python3.6/site-packages (from keras-vggface==0.6) (1.16.1)\n",
      "Requirement already satisfied: scipy>=0.14 in /opt/ds3/lib/python3.6/site-packages (from keras-vggface==0.6) (1.2.1)\n",
      "Requirement already satisfied: h5py in /opt/ds3/lib/python3.6/site-packages (from keras-vggface==0.6) (2.9.0)\n",
      "Requirement already satisfied: pillow in /opt/ds3/lib/python3.6/site-packages (from keras-vggface==0.6) (5.4.1)\n",
      "Requirement already satisfied: keras in /opt/ds3/lib/python3.6/site-packages (from keras-vggface==0.6) (2.2.4)\n",
      "Requirement already satisfied: six>=1.9.0 in /opt/ds3/lib/python3.6/site-packages (from keras-vggface==0.6) (1.12.0)\n",
      "Requirement already satisfied: pyyaml in /opt/ds3/lib/python3.6/site-packages (from keras-vggface==0.6) (3.13)\n",
      "Requirement already satisfied: keras-preprocessing>=1.0.5 in /opt/ds3/lib/python3.6/site-packages (from keras->keras-vggface==0.6) (1.0.5)\n",
      "Requirement already satisfied: keras-applications>=1.0.6 in /opt/ds3/lib/python3.6/site-packages (from keras->keras-vggface==0.6) (1.0.6)\n",
      "Building wheels for collected packages: keras-vggface\n",
      "  Building wheel for keras-vggface (setup.py) ... \u001b[?25ldone\n",
      "\u001b[?25h  Created wheel for keras-vggface: filename=keras_vggface-0.6-cp36-none-any.whl size=8310 sha256=8bbedde4c8550bcdd744f56768ed017f0cf48e915384ebfe70ee72c7c9f494df\n",
      "  Stored in directory: /tmp/pip-ephem-wheel-cache-_r8wvsn5/wheels/36/07/46/06c25ce8e9cd396dabe151ea1d8a2bc28dafcb11321c1f3a6d\n",
      "Successfully built keras-vggface\n",
      "\u001b[33mWARNING: You are using pip version 19.2.1, however version 19.2.2 is available.\n",
      "You should consider upgrading via the 'pip install --upgrade pip' command.\u001b[0m\n"
     ]
    }
   ],
   "source": [
    "!pip install git+https://github.com/rcmalli/keras-vggface.git"
   ]
  },
  {
   "cell_type": "code",
   "execution_count": 52,
   "metadata": {},
   "outputs": [
    {
     "name": "stdout",
     "output_type": "stream",
     "text": [
      "19\n",
      "<keras.engine.input_layer.InputLayer object at 0x7f7e11ed4518> False\n",
      "<keras.layers.convolutional.Conv2D object at 0x7f7e11f3be10> False\n",
      "<keras.layers.convolutional.Conv2D object at 0x7f7e11f3bdd8> False\n",
      "<keras.layers.pooling.MaxPooling2D object at 0x7f7e11efa320> False\n",
      "<keras.layers.convolutional.Conv2D object at 0x7f7e11efaf60> False\n",
      "<keras.layers.convolutional.Conv2D object at 0x7f7e11ea9ac8> False\n",
      "<keras.layers.pooling.MaxPooling2D object at 0x7f7e11ec93c8> False\n",
      "<keras.layers.convolutional.Conv2D object at 0x7f7e11ec9d68> False\n",
      "<keras.layers.convolutional.Conv2D object at 0x7f7e09c91e80> False\n",
      "<keras.layers.convolutional.Conv2D object at 0x7f7e09c4f5f8> False\n",
      "<keras.layers.pooling.MaxPooling2D object at 0x7f7e09c74400> False\n",
      "<keras.layers.convolutional.Conv2D object at 0x7f7e09c74da0> False\n",
      "<keras.layers.convolutional.Conv2D object at 0x7f7e09c12eb8> False\n",
      "<keras.layers.convolutional.Conv2D object at 0x7f7e09bd1630> True\n",
      "<keras.layers.pooling.MaxPooling2D object at 0x7f7e09bf3438> True\n",
      "<keras.layers.convolutional.Conv2D object at 0x7f7e09bf3dd8> True\n",
      "<keras.layers.convolutional.Conv2D object at 0x7f7e09b91ef0> True\n",
      "<keras.layers.convolutional.Conv2D object at 0x7f7e09b4d668> True\n",
      "<keras.layers.pooling.MaxPooling2D object at 0x7f7e09b73470> True\n",
      "_________________________________________________________________\n",
      "Layer (type)                 Output Shape              Param #   \n",
      "=================================================================\n",
      "vggface_vgg16 (Model)        (None, 1, 1, 512)         14714688  \n",
      "_________________________________________________________________\n",
      "flatten_2 (Flatten)          (None, 512)               0         \n",
      "_________________________________________________________________\n",
      "dense_4 (Dense)              (None, 512)               262656    \n",
      "_________________________________________________________________\n",
      "dropout_3 (Dropout)          (None, 512)               0         \n",
      "_________________________________________________________________\n",
      "dense_5 (Dense)              (None, 256)               131328    \n",
      "_________________________________________________________________\n",
      "dropout_4 (Dropout)          (None, 256)               0         \n",
      "_________________________________________________________________\n",
      "dense_6 (Dense)              (None, 5)                 1285      \n",
      "=================================================================\n",
      "Total params: 15,109,957\n",
      "Trainable params: 9,834,501\n",
      "Non-trainable params: 5,275,456\n",
      "_________________________________________________________________\n"
     ]
    },
    {
     "name": "stderr",
     "output_type": "stream",
     "text": [
      "/opt/ds3/lib/python3.6/site-packages/ipykernel_launcher.py:39: UserWarning: Update your `Dense` call to the Keras 2 API: `Dense(activation=\"softmax\", units=5)`\n"
     ]
    }
   ],
   "source": [
    "from keras.preprocessing.image import ImageDataGenerator\n",
    "from keras_vggface.vggface import VGGFace\n",
    "\n",
    "#Load the VGG model\n",
    "vgg_conv = VGGFace(include_top=False, input_shape=(img_width,img_height,channels))\n",
    "print(len(vgg_conv.layers))\n",
    "# Freeze some layers\n",
    "\n",
    "# We freeze three layers\n",
    "for layer in vgg_conv.layers[:-6]:\n",
    "    layer.trainable = False\n",
    "    pass\n",
    "\n",
    "\n",
    "# Check the trainable status of the individual layers\n",
    "for layer in vgg_conv.layers:\n",
    "    print(layer, layer.trainable)\n",
    "\n",
    "\n",
    "from keras import models\n",
    "from keras import layers\n",
    "from keras import optimizers\n",
    "\n",
    "# Create the model\n",
    "model = models.Sequential()\n",
    "\n",
    "# Add the vgg convolutional base model\n",
    "model.add(vgg_conv)\n",
    "\n",
    "# we add a fully connected layer\n",
    "model.add(Flatten())\n",
    "model.add(Dense(512, activation = 'relu'))\n",
    "model.add(Dropout(0.5))\n",
    "model.add(Dense(256, activation=\"relu\"))\n",
    "model.add(Dropout(0.5))\n",
    "\n",
    "# we compute the softmax according to 5 classes because we have 5 classes\n",
    "\n",
    "predictions = model.add(Dense(output_dim = 5, activation = 'softmax'))\n",
    "\n",
    "# Show a summary of the model. Check the number of trainable parameters\n",
    "model.summary()"
   ]
  },
  {
   "cell_type": "code",
   "execution_count": 53,
   "metadata": {},
   "outputs": [],
   "source": [
    "# Compile the model\n",
    "from keras import optimizers\n",
    "adam = optimizers.Adam(lr=0.0001, beta_1=0.9, beta_2=0.999, epsilon=None, decay=0.0, amsgrad=False)\n",
    "model.compile(optimizer = adam, loss = 'categorical_crossentropy', metrics=['accuracy'])"
   ]
  },
  {
   "cell_type": "code",
   "execution_count": null,
   "metadata": {},
   "outputs": [
    {
     "name": "stdout",
     "output_type": "stream",
     "text": [
      "Epoch 1/80\n",
      "19654/19654 [==============================] - 17s 845us/step - loss: 2.0068 - acc: 0.3537\n",
      "Epoch 2/80\n",
      "19654/19654 [==============================] - 15s 783us/step - loss: 1.5086 - acc: 0.3648\n",
      "Epoch 3/80\n",
      "19654/19654 [==============================] - 15s 783us/step - loss: 1.4614 - acc: 0.3647\n",
      "Epoch 4/80\n",
      "19654/19654 [==============================] - 15s 784us/step - loss: 1.4371 - acc: 0.3648\n",
      "Epoch 5/80\n",
      "19654/19654 [==============================] - 15s 783us/step - loss: 1.4285 - acc: 0.3646\n",
      "Epoch 6/80\n",
      " 3000/19654 [===>..........................] - ETA: 13s - loss: 1.4284 - acc: 0.3653"
     ]
    }
   ],
   "source": [
    "model.fit(X_train, y_train, batch_size=100, epochs=80)"
   ]
  },
  {
   "cell_type": "code",
   "execution_count": null,
   "metadata": {},
   "outputs": [],
   "source": [
    "# evaluate the model\n",
    "scores = model.evaluate(X_train, y_train, verbose=0)\n",
    "print(\"%s: %.2f%%\" % (model.metrics_names[1], scores[1]*100))"
   ]
  },
  {
   "cell_type": "code",
   "execution_count": null,
   "metadata": {},
   "outputs": [],
   "source": [
    "# serialize model to JSON\n",
    "model_json = model.to_json()\n",
    "with open(\"model.json\", \"w\") as json_file:\n",
    "    json_file.write(model_json)\n",
    "# serialize weights to HDF5\n",
    "model.save_weights(\"model.h5\")\n",
    "print(\"Saved model to disk\")\n",
    "\n",
    "# # load json and create model\n",
    "# json_file = open('model.json', 'r')\n",
    "# loaded_model_json = json_file.read()\n",
    "# json_file.close()\n",
    "# loaded_model = model_from_json(loaded_model_json)\n",
    "# # load weights into new model\n",
    "# loaded_model.load_weights(\"model.h5\")\n",
    "# print(\"Loaded model from disk\")\n",
    " \n",
    "# # evaluate loaded model on test data\n",
    "# loaded_model.compile(loss='binary_crossentropy', optimizer='rmsprop', metrics=['accuracy'])\n",
    "# score = loaded_model.evaluate(X, Y, verbose=0)\n",
    "# print(\"%s: %.2f%%\" % (loaded_model.metrics_names[1], score[1]*100))"
   ]
  },
  {
   "cell_type": "code",
   "execution_count": null,
   "metadata": {},
   "outputs": [],
   "source": [
    "y_pred = model.predict(X_test)"
   ]
  },
  {
   "cell_type": "code",
   "execution_count": null,
   "metadata": {},
   "outputs": [],
   "source": [
    "y_pred_lbl = []\n",
    "y_test_lbl = []\n",
    "for yp, yt in zip(y_pred, y_test):\n",
    "    id_max_pred = np.argmax(yp)\n",
    "    y_pred_lbl.append(id_max_pred)\n",
    "    id_max_test = np.argmax(yt)\n",
    "    y_test_lbl.append(id_max_test)"
   ]
  },
  {
   "cell_type": "code",
   "execution_count": null,
   "metadata": {},
   "outputs": [],
   "source": [
    "y_test_lbl[:10]"
   ]
  },
  {
   "cell_type": "code",
   "execution_count": null,
   "metadata": {},
   "outputs": [],
   "source": [
    "from sklearn.metrics import accuracy_score\n",
    "accuracy_score(y_test_lbl, y_pred_lbl)"
   ]
  },
  {
   "cell_type": "code",
   "execution_count": null,
   "metadata": {},
   "outputs": [],
   "source": [
    "from sklearn.metrics import confusion_matrix\n",
    "cm = confusion_matrix(y_test_lbl, y_pred_lbl)\n",
    "print(cm)"
   ]
  },
  {
   "cell_type": "code",
   "execution_count": null,
   "metadata": {},
   "outputs": [],
   "source": [
    "np.unique(np.array(y_pred_lbl))"
   ]
  },
  {
   "cell_type": "code",
   "execution_count": null,
   "metadata": {},
   "outputs": [],
   "source": [
    "np.unique(np.array(y_test_lbl))"
   ]
  },
  {
   "cell_type": "code",
   "execution_count": null,
   "metadata": {},
   "outputs": [],
   "source": [
    "import matplotlib.pyplot as plt\n",
    "plt.plot(y_pred[:30,1])\n",
    "plt.plot(y_pred[:30,0])"
   ]
  },
  {
   "cell_type": "code",
   "execution_count": null,
   "metadata": {},
   "outputs": [],
   "source": [
    "# validation_datagen = ImageDataGenerator(rescale=1. / 255)\n",
    "\n",
    "# # Change the batchsize according to your system RAM\n",
    "# train_batchsize = 100\n",
    "# val_batchsize = 10\n",
    "\n",
    "# # train_generator = train_datagen.flow_from_directory(\n",
    "# #     train_folder,\n",
    "# #     target_size=(img_height, img_width),\n",
    "# #     batch_size=train_batchsize,\n",
    "# #     class_mode='categorical')\n",
    "\n",
    "\n",
    "# train_generator = train_datagen.flow(X_train, y_train, batch_size=train_batchsize)\n",
    "\n",
    "# # Compile the model\n",
    "# model.compile(optimizer = 'Adam', loss = 'categorical_crossentropy', metrics=['accuracy'])"
   ]
  },
  {
   "cell_type": "code",
   "execution_count": null,
   "metadata": {},
   "outputs": [],
   "source": [
    "# # validation_generator = validation_datagen.flow_from_directory(\n",
    "# #     test_folder,\n",
    "# #     target_size=(img_height, img_width),\n",
    "# #     batch_size=val_batchsize,\n",
    "# #     class_mode='categorical',\n",
    "# #     shuffle=False)\n",
    "\n",
    "# validation_generator = validation_datagen.flow(X_test, y_test, batch_size=val_batchsize)\n",
    "\n",
    "\n",
    "# # Train the model\n",
    "# history = model.fit_generator(\n",
    "#     train_generator,\n",
    "#     steps_per_epoch=train_generator.n / train_generator.batch_size,\n",
    "#     epochs=20)\n",
    "# #     validation_data=validation_generator,\n",
    "# #     validation_steps=validation_generator.n / validation_generator.batch_size,\n",
    "# #     verbose=1)"
   ]
  },
  {
   "cell_type": "code",
   "execution_count": null,
   "metadata": {},
   "outputs": [],
   "source": []
  },
  {
   "cell_type": "code",
   "execution_count": null,
   "metadata": {},
   "outputs": [],
   "source": []
  },
  {
   "cell_type": "code",
   "execution_count": null,
   "metadata": {},
   "outputs": [],
   "source": []
  },
  {
   "cell_type": "code",
   "execution_count": null,
   "metadata": {},
   "outputs": [],
   "source": []
  },
  {
   "cell_type": "code",
   "execution_count": null,
   "metadata": {},
   "outputs": [],
   "source": []
  }
 ],
 "metadata": {
  "kernelspec": {
   "display_name": "Python 3",
   "language": "python",
   "name": "python3"
  },
  "language_info": {
   "codemirror_mode": {
    "name": "ipython",
    "version": 3
   },
   "file_extension": ".py",
   "mimetype": "text/x-python",
   "name": "python",
   "nbconvert_exporter": "python",
   "pygments_lexer": "ipython3",
   "version": "3.6.7"
  }
 },
 "nbformat": 4,
 "nbformat_minor": 2
}
